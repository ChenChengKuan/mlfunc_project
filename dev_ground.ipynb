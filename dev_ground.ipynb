{
 "cells": [
  {
   "cell_type": "code",
   "execution_count": 1,
   "metadata": {},
   "outputs": [],
   "source": [
    "import glob\n",
    "import torch\n",
    "from sklearn.manifold import TSNE\n",
    "import glob\n",
    "import json\n",
    "import pandas as pd\n",
    "import seaborn as sns\n",
    "import argparse\n",
    "import matplotlib.pyplot as plt"
   ]
  },
  {
   "cell_type": "code",
   "execution_count": null,
   "metadata": {},
   "outputs": [],
   "source": [
    "embed_res = glob.glob(\"./results/*/*.pt\")\n",
    "embed_meta_res = glob.glob(\"./results/*/*/*/metadata.tsv\")"
   ]
  },
  {
   "cell_type": "code",
   "execution_count": null,
   "metadata": {},
   "outputs": [],
   "source": [
    "for embed, meta in zip(embed_res, embed_meta_res):\n",
    "    print(\"plotting \", embed)\n",
    "    embed_ckpt = torch.load(embed).numpy()\n",
    "    cell_labels = []\n",
    "    with open(meta) as handle:\n",
    "        for line in handle.readlines():\n",
    "            cell_labels.append(int(line.strip().split(\"-\")[0]))\n",
    "    \n",
    "    with open(embed.replace(\"embed.pt\", 'id2cell.json'),'r') as handle:\n",
    "        id2cell = json.load(handle)\n",
    "    cell_labels = [id2cell[str(lb)] for lb in cell_labels]\n",
    "    tsne = TSNE(verbose=1)\n",
    "    embed_transform = tsne.fit_transform(embed_ckpt)\n",
    "    \n",
    "    embed_df = pd.DataFrame(embed_transform)\n",
    "    embed_df.columns = ['tsne_one', 'tsne_two']\n",
    "    embed_df['cell_type'] = cell_labels\n",
    "    plt.figure(figsize=(16,10))\n",
    "    sns.scatterplot(x='tsne_one', y='tsne_two',\\\n",
    "                   data=embed_df, hue='cell_type',\\\n",
    "                   palette=sns.color_palette(\"hls\", 9))\n",
    "    plt.savefig(embed.replace('.pt', 'tsne_embed'))"
   ]
  },
  {
   "cell_type": "code",
   "execution_count": 1,
   "metadata": {},
   "outputs": [],
   "source": [
    "import anndata\n",
    "import os\n",
    "import scanpy as sc"
   ]
  },
  {
   "cell_type": "code",
   "execution_count": 2,
   "metadata": {},
   "outputs": [],
   "source": [
    "data_ref = './data/baron_2016h.h5ad'\n",
    "data_trg = \"./data/xin_2016.h5ad\"\n",
    "adata_ref = anndata.read_h5ad(data_ref)\n",
    "adata_trg = anndata.read_h5ad(data_trg)"
   ]
  },
  {
   "cell_type": "code",
   "execution_count": 3,
   "metadata": {},
   "outputs": [],
   "source": [
    "sc.pp.filter_genes(adata_ref, min_counts=1)"
   ]
  },
  {
   "cell_type": "code",
   "execution_count": 21,
   "metadata": {},
   "outputs": [
    {
     "ename": "TypeError",
     "evalue": "sparse matrix length is ambiguous; use getnnz() or shape[0]",
     "output_type": "error",
     "traceback": [
      "\u001b[0;31m---------------------------------------------------------------------------\u001b[0m",
      "\u001b[0;31mTypeError\u001b[0m                                 Traceback (most recent call last)",
      "\u001b[0;32m<ipython-input-21-e1fd390f7bfc>\u001b[0m in \u001b[0;36m<module>\u001b[0;34m\u001b[0m\n\u001b[1;32m      1\u001b[0m \u001b[0;32mimport\u001b[0m \u001b[0mtorch\u001b[0m\u001b[0;34m\u001b[0m\u001b[0;34m\u001b[0m\u001b[0m\n\u001b[0;32m----> 2\u001b[0;31m \u001b[0mtorch\u001b[0m\u001b[0;34m.\u001b[0m\u001b[0mtensor\u001b[0m\u001b[0;34m(\u001b[0m\u001b[0madata_ref\u001b[0m\u001b[0;34m.\u001b[0m\u001b[0mX\u001b[0m\u001b[0;34m)\u001b[0m\u001b[0;34m\u001b[0m\u001b[0;34m\u001b[0m\u001b[0m\n\u001b[0m",
      "\u001b[0;32m~/anaconda3/envs/pytorch/lib/python3.6/site-packages/scipy/sparse/base.py\u001b[0m in \u001b[0;36m__len__\u001b[0;34m(self)\u001b[0m\n\u001b[1;32m    293\u001b[0m     \u001b[0;31m# non-zeros is more important.  For now, raise an exception!\u001b[0m\u001b[0;34m\u001b[0m\u001b[0;34m\u001b[0m\u001b[0;34m\u001b[0m\u001b[0m\n\u001b[1;32m    294\u001b[0m     \u001b[0;32mdef\u001b[0m \u001b[0m__len__\u001b[0m\u001b[0;34m(\u001b[0m\u001b[0mself\u001b[0m\u001b[0;34m)\u001b[0m\u001b[0;34m:\u001b[0m\u001b[0;34m\u001b[0m\u001b[0;34m\u001b[0m\u001b[0m\n\u001b[0;32m--> 295\u001b[0;31m         raise TypeError(\"sparse matrix length is ambiguous; use getnnz()\"\n\u001b[0m\u001b[1;32m    296\u001b[0m                         \" or shape[0]\")\n\u001b[1;32m    297\u001b[0m \u001b[0;34m\u001b[0m\u001b[0m\n",
      "\u001b[0;31mTypeError\u001b[0m: sparse matrix length is ambiguous; use getnnz() or shape[0]"
     ]
    }
   ],
   "source": [
    "import torch\n",
    "torch.tensor(adata_ref.X)"
   ]
  },
  {
   "cell_type": "code",
   "execution_count": 4,
   "metadata": {},
   "outputs": [],
   "source": [
    "shared_genes = adata_ref.var_names[adata_ref.var_names.isin(adata_trg.var_names)]"
   ]
  },
  {
   "cell_type": "code",
   "execution_count": 5,
   "metadata": {},
   "outputs": [],
   "source": [
    "adata_ref = adata_ref[:, adata_ref.var_names.isin(shared_genes)]\n",
    "adata_trg = adata_trg[:, adata_trg.var_names.isin(shared_genes)]"
   ]
  },
  {
   "cell_type": "code",
   "execution_count": 6,
   "metadata": {},
   "outputs": [],
   "source": [
    "adata_ref = adata_ref[:, adata_ref.var_names.argsort()].copy()\n",
    "adata_trg = adata_trg[:, adata_trg.var_names.argsort()].copy()\n",
    "assert all(adata_ref.var_names == adata_trg.var_names)"
   ]
  },
  {
   "cell_type": "code",
   "execution_count": 7,
   "metadata": {},
   "outputs": [
    {
     "name": "stdout",
     "output_type": "stream",
     "text": [
      "Chosen offset: 0.45\n"
     ]
    }
   ],
   "source": [
    "from utils import select_gene\n",
    "gene_mask = select_gene(adata_ref.X, num_gene=1000, threshold=0)"
   ]
  },
  {
   "cell_type": "code",
   "execution_count": 66,
   "metadata": {},
   "outputs": [],
   "source": [
    "import json\n",
    "import matplotlib.pyplot as plt\n",
    "import os\n",
    "from sklearn.metrics import auc"
   ]
  },
  {
   "cell_type": "code",
   "execution_count": null,
   "metadata": {},
   "outputs": [],
   "source": []
  },
  {
   "cell_type": "code",
   "execution_count": 73,
   "metadata": {},
   "outputs": [
    {
     "name": "stdout",
     "output_type": "stream",
     "text": [
      "./results/baron_2016h_labelled_99/MLP_100-50_metric/log.json\n",
      "./results/baron_2016h_labelled_20/MLP_100-50_metric/log.json\n",
      "./results/baron_2016h_labelled_15/MLP_100-50_metric/log.json\n",
      "./results/baron_2016h_labelled_5/MLP_100-50_metric/log.json\n"
     ]
    },
    {
     "data": {
      "image/png": "[encoded data removed]",
      "text/plain": [
       "<Figure size 432x288 with 1 Axes>"
      ]
     },
     "metadata": {
      "needs_background": "light"
     },
     "output_type": "display_data"
    }
   ],
   "source": [
    "log_dir = glob.glob(\"./results/baron_2016h_labelled_*/*/log.json\")\n",
    "log_dir_srt = sorted(log_dir, key = lambda x: -int(x.split(\"/\")[2].split(\"_\")[-1]))\n",
    "for file in log_dir_srt:\n",
    "    print(file)\n",
    "    legend_flag = file.split(\"/\")[2].split(\"_\")[-1]\n",
    "    with open(file) as f:\n",
    "        results = json.load(f)\n",
    "        log = results['log']\n",
    "        test_acc = []\n",
    "        for i in range(1,len(log),2):\n",
    "            test_acc.append(log[i]['test_acc'])\n",
    "        plt.plot(list(range(10)), test_acc, label='{}_labelled'.format(legend_flag))\n",
    "plt.legend()\n",
    "plt.xlabel(\"Number of epoch\")\n",
    "plt.ylabel(\"Test accuracy\")#\n",
    "plt.savefig(file.replace(\"/\".join(file.split(\"/\")[-2:]),\"test_acc_plot\"))"
   ]
  },
  {
   "cell_type": "code",
   "execution_count": 74,
   "metadata": {},
   "outputs": [
    {
     "data": {
      "text/plain": [
       "'./results/baron_2016h_labelled_5/test_acc_plot'"
      ]
     },
     "execution_count": 74,
     "metadata": {},
     "output_type": "execute_result"
    }
   ],
   "source": [
    "file.replace(\"/\".join(file.split(\"/\")[-2:]),\"test_acc_plot\")"
   ]
  },
  {
   "cell_type": "code",
   "execution_count": 77,
   "metadata": {},
   "outputs": [],
   "source": [
    "data_name = \"_\".join(file.split(\"/\")[2].split(\"_\")[0:-2])"
   ]
  },
  {
   "cell_type": "code",
   "execution_count": 79,
   "metadata": {},
   "outputs": [
    {
     "data": {
      "text/plain": [
       "'./result/baron_2016h/test_acc_plot'"
      ]
     },
     "execution_count": 79,
     "metadata": {},
     "output_type": "execute_result"
    }
   ],
   "source": [
    "os.path.join(\"./result\", data_name, \"test_acc_plot\")"
   ]
  },
  {
   "cell_type": "code",
   "execution_count": 86,
   "metadata": {},
   "outputs": [
    {
     "data": {
      "text/plain": [
       "['results_paired/macosko_2015_labelled_15_shekhar_2016/',\n",
       " 'results_paired/macosko_2015_labelled_5_shekhar_2016/']"
      ]
     },
     "execution_count": 86,
     "metadata": {},
     "output_type": "execute_result"
    }
   ],
   "source": [
    "glob.glob(\"results_paired/macosko_2015_labelled_*5_shekhar_2016/\")"
   ]
  },
  {
   "cell_type": "code",
   "execution_count": null,
   "metadata": {},
   "outputs": [],
   "source": []
  }
 ],
 "metadata": {
  "kernelspec": {
   "display_name": "Python 3",
   "language": "python",
   "name": "python3"
  },
  "language_info": {
   "codemirror_mode": {
    "name": "ipython",
    "version": 3
   },
   "file_extension": ".py",
   "mimetype": "text/x-python",
   "name": "python",
   "nbconvert_exporter": "python",
   "pygments_lexer": "ipython3",
   "version": "3.6.9"
  }
 },
 "nbformat": 4,
 "nbformat_minor": 2
}
