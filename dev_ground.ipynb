{
 "cells": [
  {
   "cell_type": "code",
   "execution_count": 2,
   "metadata": {},
   "outputs": [],
   "source": [
    "import anndata\n",
    "import scipy.sparse as sp\n",
    "import numpy as np\n",
    "import scanpy as sc\n",
    "import torch\n",
    "from torch.utils.data.dataset import Dataset"
   ]
  },
  {
   "cell_type": "code",
   "execution_count": 3,
   "metadata": {},
   "outputs": [],
   "source": [
    "class SingleCellData(Dataset):\n",
    "    def __init__(self, data_path, num_gene, normalized=True):\n",
    "        self.data_path = data_path\n",
    "        self.num_gene = num_gene\n",
    "        self.normalized = normalized\n",
    "        self.anndata = anndata.read_h5ad(data_path)\n",
    "        sc.pp.filter_genes(self.anndata, min_counts=1)\n",
    "        self.gene_mask = self.select_gene(data=self.anndata.X, num_gene=self.num_gene)\n",
    "        \n",
    "        if self.normalized:\n",
    "            anndata_norm = self.anndata.copy()\n",
    "            sc.pp.normalize_per_cell(anndata_norm, counts_per_cell_after=1_000_000)\n",
    "            sc.pp.log1p(anndata_norm)\n",
    "            anndata_norm.X = anndata_norm.X.toarray()\n",
    "            anndata_norm.X -= anndata_norm.X.mean(axis=0)\n",
    "            anndata_norm.X /= anndata_norm.X.std(axis=0)\n",
    "            self.anndata_preprocessed = anndata_norm[:, self.gene_mask].copy()\n",
    "        else:\n",
    "            self.anndata_preprocessed = self.anndata.copy()\n",
    "            \n",
    "        self.X = torch.tensor(self.anndata_preprocessed.X)\n",
    "        self.id_to_batch, self.batch_to_id = self.get_batch_map()\n",
    "        self.id_to_cell, self.cell_to_id = self.get_cell_map()\n",
    "        \n",
    "        \n",
    "        self.cell_label_tensor = torch.tensor([self.cell_to_id[e] for e in self.anndata.obs['labels']])\n",
    "        self.batch_id_tensor = torch.tensor([self.batch_to_id[e] for e in self.anndata.obs['batch_id']])\n",
    "        \n",
    "    def __getitem__(self, index):\n",
    "        return self.X[index], self.cell_label_tensor[index], self.batch_id_tensor[index]\n",
    "            \n",
    "    def __len__(self):\n",
    "        return len(self.anndata)\n",
    "    \n",
    "    def get_batch_map(self):\n",
    "        num_batch_type = len(self.anndata.obs['batch_id'].unique().tolist())\n",
    "        id2batch = dict(zip(list(range(num_batch_type)), self.anndata.obs['batch_id'].unique().tolist()))\n",
    "        batch2id = {v: k for k,v in id2batch.items()}\n",
    "        return id2batch, batch2id\n",
    "    \n",
    "    def get_cell_map(self):\n",
    "        num_cell_type = len(self.anndata.obs['labels'].unique().tolist())\n",
    "        id2cell = dict(zip(list(range(num_cell_type)), self.anndata.obs['labels'].unique().tolist()))\n",
    "        cell2id = {v:k for k,v in id2cell.items()}\n",
    "        return id2cell, cell2id\n",
    "    \n",
    "    def select_gene(self, data,\\\n",
    "                    num_gene,\\\n",
    "                    threshold=0,\\\n",
    "                    atleast=10,\\\n",
    "                    decay=1,\n",
    "                    xoffset=5,\\\n",
    "                    yoffset=0.02):\n",
    "        \n",
    "        if sp.issparse(data):\n",
    "            zeroRate = 1 - np.squeeze(np.array((data > threshold).mean(axis=0)))\n",
    "            A = data.multiply(data > threshold)\n",
    "            A.data = np.log2(A.data)\n",
    "            meanExpr = np.zeros_like(zeroRate) * np.nan\n",
    "            detected = zeroRate < 1\n",
    "            meanExpr[detected] = np.squeeze(np.array(A[:, detected].mean(axis=0))) / (\n",
    "                1 - zeroRate[detected]\n",
    "            )\n",
    "        else:\n",
    "            zeroRate = 1 - np.mean(data > threshold, axis=0)\n",
    "            meanExpr = np.zeros_like(zeroRate) * np.nan\n",
    "            detected = zeroRate < 1\n",
    "            meanExpr[detected] = np.nanmean(\n",
    "                np.where(data[:, detected] > threshold, np.log2(data[:, detected]), np.nan),\n",
    "                axis=0,\n",
    "            )\n",
    "\n",
    "        lowDetection = np.array(np.sum(data > threshold, axis=0)).squeeze() < atleast\n",
    "        # lowDetection = (1 - zeroRate) * data.shape[0] < atleast - .00001\n",
    "        zeroRate[lowDetection] = np.nan\n",
    "        meanExpr[lowDetection] = np.nan\n",
    "\n",
    "        if self.num_gene is not None:\n",
    "            up = 10\n",
    "            low = 0\n",
    "            for t in range(100):\n",
    "                nonan = ~np.isnan(zeroRate)\n",
    "                selected = np.zeros_like(zeroRate).astype(bool)\n",
    "                selected[nonan] = (\n",
    "                    zeroRate[nonan] > np.exp(-decay * (meanExpr[nonan] - xoffset)) + yoffset\n",
    "                )\n",
    "                if np.sum(selected) == num_gene:\n",
    "                    break\n",
    "                elif np.sum(selected) < num_gene:\n",
    "                    up = xoffset\n",
    "                    xoffset = (xoffset + low) / 2\n",
    "                else:\n",
    "                    low = xoffset\n",
    "                    xoffset = (xoffset + up) / 2\n",
    "            print(\"Chosen offset: {:.2f}\".format(xoffset))\n",
    "        else:\n",
    "            nonan = ~np.isnan(zeroRate)\n",
    "            selected = np.zeros_like(zeroRate).astype(bool)\n",
    "            selected[nonan] = (\n",
    "                zeroRate[nonan] > np.exp(-decay * (meanExpr[nonan] - xoffset)) + yoffset\n",
    "            )\n",
    "\n",
    "        return selected\n",
    "    "
   ]
  },
  {
   "cell_type": "code",
   "execution_count": 4,
   "metadata": {},
   "outputs": [
    {
     "name": "stdout",
     "output_type": "stream",
     "text": [
      "Chosen offset: 0.18\n"
     ]
    }
   ],
   "source": [
    "sc_dataset = SingleCellData(data_path=\"./data/baron_2016h.h5ad\", num_gene=3000)"
   ]
  },
  {
   "cell_type": "code",
   "execution_count": null,
   "metadata": {},
   "outputs": [],
   "source": [
    "sc_dataloader_train = to"
   ]
  },
  {
   "cell_type": "code",
   "execution_count": null,
   "metadata": {},
   "outputs": [],
   "source": [
    "x,y,b"
   ]
  },
  {
   "cell_type": "code",
   "execution_count": null,
   "metadata": {},
   "outputs": [],
   "source": [
    "x[0:100]"
   ]
  },
  {
   "cell_type": "code",
   "execution_count": null,
   "metadata": {},
   "outputs": [],
   "source": [
    "sc_dataset.cell_to_id"
   ]
  },
  {
   "cell_type": "code",
   "execution_count": null,
   "metadata": {},
   "outputs": [],
   "source": [
    "sc_dataset.batch_to_id"
   ]
  },
  {
   "cell_type": "code",
   "execution_count": null,
   "metadata": {},
   "outputs": [],
   "source": [
    "adata = anndata.read_h5ad(\"./data/baron_2016h.h5ad\")\n",
    "sc.pp.filter_genes(adata, min_counts=1)\n",
    "adata"
   ]
  },
  {
   "cell_type": "code",
   "execution_count": null,
   "metadata": {},
   "outputs": [],
   "source": [
    "def select_genes(\n",
    "    data,\n",
    "    threshold=0,\n",
    "    atleast=10,\n",
    "    yoffset=0.02,\n",
    "    xoffset=5,\n",
    "    decay=1,\n",
    "    n=None,\n",
    "    alpha=1,\n",
    "):\n",
    "    if sp.issparse(data):\n",
    "        zeroRate = 1 - np.squeeze(np.array((data > threshold).mean(axis=0)))\n",
    "        A = data.multiply(data > threshold)\n",
    "        A.data = np.log2(A.data)\n",
    "        meanExpr = np.zeros_like(zeroRate) * np.nan\n",
    "        detected = zeroRate < 1\n",
    "        meanExpr[detected] = np.squeeze(np.array(A[:, detected].mean(axis=0))) / (\n",
    "            1 - zeroRate[detected]\n",
    "        )\n",
    "    else:\n",
    "        zeroRate = 1 - np.mean(data > threshold, axis=0)\n",
    "        meanExpr = np.zeros_like(zeroRate) * np.nan\n",
    "        detected = zeroRate < 1\n",
    "        meanExpr[detected] = np.nanmean(\n",
    "            np.where(data[:, detected] > threshold, np.log2(data[:, detected]), np.nan),\n",
    "            axis=0,\n",
    "        )\n",
    "\n",
    "    lowDetection = np.array(np.sum(data > threshold, axis=0)).squeeze() < atleast\n",
    "    # lowDetection = (1 - zeroRate) * data.shape[0] < atleast - .00001\n",
    "    zeroRate[lowDetection] = np.nan\n",
    "    meanExpr[lowDetection] = np.nan\n",
    "\n",
    "    if n is not None:\n",
    "        up = 10\n",
    "        low = 0\n",
    "        for t in range(100):\n",
    "            nonan = ~np.isnan(zeroRate)\n",
    "            selected = np.zeros_like(zeroRate).astype(bool)\n",
    "            selected[nonan] = (\n",
    "                zeroRate[nonan] > np.exp(-decay * (meanExpr[nonan] - xoffset)) + yoffset\n",
    "            )\n",
    "            if np.sum(selected) == n:\n",
    "                break\n",
    "            elif np.sum(selected) < n:\n",
    "                up = xoffset\n",
    "                xoffset = (xoffset + low) / 2\n",
    "            else:\n",
    "                low = xoffset\n",
    "                xoffset = (xoffset + up) / 2\n",
    "        print(\"Chosen offset: {:.2f}\".format(xoffset))\n",
    "    else:\n",
    "        nonan = ~np.isnan(zeroRate)\n",
    "        selected = np.zeros_like(zeroRate).astype(bool)\n",
    "        selected[nonan] = (\n",
    "            zeroRate[nonan] > np.exp(-decay * (meanExpr[nonan] - xoffset)) + yoffset\n",
    "        )\n",
    "\n",
    "    return selected"
   ]
  },
  {
   "cell_type": "code",
   "execution_count": null,
   "metadata": {},
   "outputs": [],
   "source": [
    "gene_mask = select_genes(adata.X, n=3000, threshold=0)\n",
    "\n",
    "adata_norm = adata.copy()\n",
    "sc.pp.normalize_per_cell(adata_norm, counts_per_cell_after=1_000_000)\n",
    "sc.pp.log1p(adata_norm)"
   ]
  },
  {
   "cell_type": "code",
   "execution_count": null,
   "metadata": {},
   "outputs": [],
   "source": [
    "adata_norm.X = adata_norm.X.toarray()\n",
    "adata_norm.X -= adata_norm.X.mean(axis=0)\n",
    "adata_norm.X /= adata_norm.X.std(axis=0)"
   ]
  },
  {
   "cell_type": "code",
   "execution_count": null,
   "metadata": {},
   "outputs": [],
   "source": [
    "\n",
    "adata_3000 = adata_norm[:, gene_mask].copy()"
   ]
  },
  {
   "cell_type": "code",
   "execution_count": null,
   "metadata": {},
   "outputs": [],
   "source": [
    "adata_3000.obs['batch_id'][4578]"
   ]
  },
  {
   "cell_type": "code",
   "execution_count": null,
   "metadata": {},
   "outputs": [],
   "source": [
    "adata_3000.obs['labels'][4578]"
   ]
  },
  {
   "cell_type": "code",
   "execution_count": null,
   "metadata": {},
   "outputs": [],
   "source": [
    "x,y,b = sc_dataset.__getitem__(4578)"
   ]
  },
  {
   "cell_type": "code",
   "execution_count": null,
   "metadata": {},
   "outputs": [],
   "source": [
    "adata_3000.X[4578]"
   ]
  },
  {
   "cell_type": "code",
   "execution_count": null,
   "metadata": {},
   "outputs": [],
   "source": [
    "np.array_equal(x,adata_3000.X[4578])"
   ]
  },
  {
   "cell_type": "code",
   "execution_count": null,
   "metadata": {},
   "outputs": [],
   "source": [
    "b"
   ]
  },
  {
   "cell_type": "code",
   "execution_count": null,
   "metadata": {},
   "outputs": [],
   "source": [
    "y"
   ]
  },
  {
   "cell_type": "code",
   "execution_count": null,
   "metadata": {},
   "outputs": [],
   "source": [
    "sc_dataset.id_to_cell"
   ]
  },
  {
   "cell_type": "code",
   "execution_count": null,
   "metadata": {},
   "outputs": [],
   "source": [
    "sc_dataset.id_to_batch"
   ]
  },
  {
   "cell_type": "code",
   "execution_count": null,
   "metadata": {},
   "outputs": [],
   "source": []
  }
 ],
 "metadata": {
  "kernelspec": {
   "display_name": "Python 3",
   "language": "python",
   "name": "python3"
  },
  "language_info": {
   "codemirror_mode": {
    "name": "ipython",
    "version": 3
   },
   "file_extension": ".py",
   "mimetype": "text/x-python",
   "name": "python",
   "nbconvert_exporter": "python",
   "pygments_lexer": "ipython3",
   "version": "3.6.9"
  }
 },
 "nbformat": 4,
 "nbformat_minor": 2
}
