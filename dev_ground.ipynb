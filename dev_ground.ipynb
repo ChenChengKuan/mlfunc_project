{
 "cells": [
  {
   "cell_type": "code",
   "execution_count": 10,
   "metadata": {},
   "outputs": [],
   "source": [
    "import anndata\n",
    "import scipy.sparse as sp\n",
    "import numpy as np\n",
    "import scanpy as sc\n",
    "import torch\n",
    "from torch.utils.data.dataset import Dataset"
   ]
  },
  {
   "cell_type": "code",
   "execution_count": 19,
   "metadata": {},
   "outputs": [],
   "source": [
    "class SingleCellData(Dataset):\n",
    "    def __init__(self, data_path, num_gene, normalized=True):\n",
    "        self.data_path = data_path\n",
    "        self.num_gene = num_gene\n",
    "        self.normalized = normalized\n",
    "        self.anndata = anndata.read_h5ad(data_path)\n",
    "        sc.pp.filter_genes(self.anndata, min_counts=1)\n",
    "        self.gene_mask = self.select_gene(data=self.anndata.X, num_gene=self.num_gene)\n",
    "        \n",
    "        if self.normalized:\n",
    "            anndata_norm = self.anndata.copy()\n",
    "            sc.pp.normalize_per_cell(anndata_norm, counts_per_cell_after=1_000_000)\n",
    "            sc.pp.log1p(anndata_norm)\n",
    "            anndata_norm.X = anndata_norm.X.toarray()\n",
    "            anndata_norm.X -= anndata_norm.X.mean(axis=0)\n",
    "            anndata_norm.X /= anndata_norm.X.std(axis=0)\n",
    "            self.anndata_preprocessed = anndata_norm[:, self.gene_mask].copy()\n",
    "        else:\n",
    "            self.anndata_preprocessed = self.anndata.copy()\n",
    "            \n",
    "        self.X = torch.tensor(self.anndata_preprocessed.X)\n",
    "        self.id_to_batch, self.batch_to_id = self.get_batch_map()\n",
    "        self.id_to_cell, self.cell_to_id = self.get_cell_map()\n",
    "        \n",
    "        \n",
    "        self.cell_label_tensor = torch.tensor([self.cell_to_id[e] for e in self.anndata.obs['labels']])\n",
    "        self.batch_id_tensor = torch.tensor([self.batch_to_id[e] for e in self.anndata.obs['batch_id']])\n",
    "        \n",
    "    def __getitem__(self, index):\n",
    "        return self.X[index], self.cell_label_tensor[index], self.batch_id_tensor[index]\n",
    "            \n",
    "    def __len__(self):\n",
    "        return len(self.anndata)\n",
    "    \n",
    "    def get_batch_map(self):\n",
    "        num_batch_type = len(self.anndata.obs['batch_id'].unique().tolist())\n",
    "        id2batch = dict(zip(list(range(num_batch_type)), self.anndata.obs['batch_id'].unique().tolist()))\n",
    "        batch2id = {v: k for k,v in id2batch.items()}\n",
    "        return id2batch, batch2id\n",
    "    \n",
    "    def get_cell_map(self):\n",
    "        num_cell_type = len(self.anndata.obs['labels'].unique().tolist())\n",
    "        id2cell = dict(zip(list(range(num_cell_type)), self.anndata.obs['labels'].unique().tolist()))\n",
    "        cell2id = {v:k for k,v in id2cell.items()}\n",
    "        return id2cell, cell2id\n",
    "    \n",
    "    def select_gene(self, data,\\\n",
    "                    num_gene,\\\n",
    "                    threshold=0,\\\n",
    "                    atleast=10,\\\n",
    "                    decay=1,\n",
    "                    xoffset=5,\\\n",
    "                    yoffset=0.02):\n",
    "        \n",
    "        if sp.issparse(data):\n",
    "            zeroRate = 1 - np.squeeze(np.array((data > threshold).mean(axis=0)))\n",
    "            A = data.multiply(data > threshold)\n",
    "            A.data = np.log2(A.data)\n",
    "            meanExpr = np.zeros_like(zeroRate) * np.nan\n",
    "            detected = zeroRate < 1\n",
    "            meanExpr[detected] = np.squeeze(np.array(A[:, detected].mean(axis=0))) / (\n",
    "                1 - zeroRate[detected]\n",
    "            )\n",
    "        else:\n",
    "            zeroRate = 1 - np.mean(data > threshold, axis=0)\n",
    "            meanExpr = np.zeros_like(zeroRate) * np.nan\n",
    "            detected = zeroRate < 1\n",
    "            meanExpr[detected] = np.nanmean(\n",
    "                np.where(data[:, detected] > threshold, np.log2(data[:, detected]), np.nan),\n",
    "                axis=0,\n",
    "            )\n",
    "\n",
    "        lowDetection = np.array(np.sum(data > threshold, axis=0)).squeeze() < atleast\n",
    "        # lowDetection = (1 - zeroRate) * data.shape[0] < atleast - .00001\n",
    "        zeroRate[lowDetection] = np.nan\n",
    "        meanExpr[lowDetection] = np.nan\n",
    "\n",
    "        if self.num_gene is not None:\n",
    "            up = 10\n",
    "            low = 0\n",
    "            for t in range(100):\n",
    "                nonan = ~np.isnan(zeroRate)\n",
    "                selected = np.zeros_like(zeroRate).astype(bool)\n",
    "                selected[nonan] = (\n",
    "                    zeroRate[nonan] > np.exp(-decay * (meanExpr[nonan] - xoffset)) + yoffset\n",
    "                )\n",
    "                if np.sum(selected) == num_gene:\n",
    "                    break\n",
    "                elif np.sum(selected) < num_gene:\n",
    "                    up = xoffset\n",
    "                    xoffset = (xoffset + low) / 2\n",
    "                else:\n",
    "                    low = xoffset\n",
    "                    xoffset = (xoffset + up) / 2\n",
    "            print(\"Chosen offset: {:.2f}\".format(xoffset))\n",
    "        else:\n",
    "            nonan = ~np.isnan(zeroRate)\n",
    "            selected = np.zeros_like(zeroRate).astype(bool)\n",
    "            selected[nonan] = (\n",
    "                zeroRate[nonan] > np.exp(-decay * (meanExpr[nonan] - xoffset)) + yoffset\n",
    "            )\n",
    "\n",
    "        return selected\n",
    "    "
   ]
  },
  {
   "cell_type": "code",
   "execution_count": 20,
   "metadata": {},
   "outputs": [
    {
     "name": "stdout",
     "output_type": "stream",
     "text": [
      "Chosen offset: 0.18\n"
     ]
    }
   ],
   "source": [
    "sc_dataset = SingleCellData(data_path=\"./data/baron_2016h.h5ad\", num_gene=3000)"
   ]
  },
  {
   "cell_type": "code",
   "execution_count": 48,
   "metadata": {},
   "outputs": [],
   "source": [
    "x, y, b = sc_dataset.__getitem__(100)"
   ]
  },
  {
   "cell_type": "code",
   "execution_count": 49,
   "metadata": {},
   "outputs": [
    {
     "data": {
      "text/plain": [
       "(tensor([-0.1800, -0.2322, -0.2284,  ..., -0.2531, -0.6688, -0.3976]),\n",
       " tensor(2),\n",
       " tensor(0))"
      ]
     },
     "execution_count": 49,
     "metadata": {},
     "output_type": "execute_result"
    }
   ],
   "source": [
    "x,y,b"
   ]
  },
  {
   "cell_type": "code",
   "execution_count": 50,
   "metadata": {},
   "outputs": [
    {
     "data": {
      "text/plain": [
       "tensor([-0.1800, -0.2322, -0.2284, -0.0547, -0.2252, -0.0515, -0.0607,  3.8628,\n",
       "        -0.3273,  1.3579, -0.0373, -0.3545, -0.1263, -0.0921, -0.1806, -0.4243,\n",
       "        -0.0524, -0.0902, -0.2024, -0.2693, -0.1517, -0.0782, -0.1185, -0.1924,\n",
       "        -0.2157, -0.0780,  1.7218, -0.1622, -0.1276, -0.1960, -0.1290, -0.1898,\n",
       "        -0.1390, -0.1141, -0.0952, -0.0755, -0.1004, -0.5188, -0.0646, -0.2540,\n",
       "        -0.1685, -0.0492, -0.1760, -0.2406, -0.1463, -0.1237, -0.2599,  2.4256,\n",
       "        -0.0387, -0.2471, -0.0769, -0.2236, -0.2255, -0.2282, -0.5694, -0.0373,\n",
       "        -0.0711,  2.0229, -0.1197, -0.2199, -0.0635, -0.3017, -0.1212, -0.0579,\n",
       "        -0.1760, -0.7531, -0.0681, -0.2296, -0.1419, -0.0443, -0.1388, -0.0559,\n",
       "        -0.2289, -0.6069, -0.1159, -0.0535, -0.1717, -0.0468, -0.1249, -0.0886,\n",
       "        -0.2274, -0.2573, -0.0994, -0.0749, -0.0697, -0.4340, -0.5196, -0.1195,\n",
       "        -0.5298, -0.0735, -0.4232, -0.1335, -0.3099, -0.0798, -0.1449, -0.1025,\n",
       "        -0.1506, -0.3007, -0.0994, -0.3132])"
      ]
     },
     "execution_count": 50,
     "metadata": {},
     "output_type": "execute_result"
    }
   ],
   "source": [
    "x[0:100]"
   ]
  },
  {
   "cell_type": "code",
   "execution_count": 37,
   "metadata": {},
   "outputs": [
    {
     "data": {
      "text/plain": [
       "{'Acinar cells': 0,\n",
       " 'Beta cells': 1,\n",
       " 'Delta cells': 2,\n",
       " 'PaSC': 3,\n",
       " 'Ductal cells': 4,\n",
       " 'Alpha cells': 5,\n",
       " 'Other': 6,\n",
       " 'PP cells': 7,\n",
       " 'Endothelial cell': 8}"
      ]
     },
     "execution_count": 37,
     "metadata": {},
     "output_type": "execute_result"
    }
   ],
   "source": [
    "sc_dataset.cell_to_id"
   ]
  },
  {
   "cell_type": "code",
   "execution_count": 38,
   "metadata": {},
   "outputs": [
    {
     "data": {
      "text/plain": [
       "{'human1_lib1': 0,\n",
       " 'human1_lib2': 1,\n",
       " 'human1_lib3': 2,\n",
       " 'human2_lib1': 3,\n",
       " 'human2_lib2': 4,\n",
       " 'human2_lib3': 5,\n",
       " 'human3_lib1': 6,\n",
       " 'human3_lib2': 7,\n",
       " 'human3_lib3': 8,\n",
       " 'human3_lib4': 9,\n",
       " 'human4_lib1': 10,\n",
       " 'human4_lib3': 11}"
      ]
     },
     "execution_count": 38,
     "metadata": {},
     "output_type": "execute_result"
    }
   ],
   "source": [
    "sc_dataset.batch_to_id"
   ]
  },
  {
   "cell_type": "code",
   "execution_count": 42,
   "metadata": {},
   "outputs": [
    {
     "data": {
      "text/plain": [
       "AnnData object with n_obs × n_vars = 8569 × 17499 \n",
       "    obs: 'batch_id', 'labels'\n",
       "    var: 'n_counts'\n",
       "    uns: 'name', 'organism', 'tissue', 'year'"
      ]
     },
     "execution_count": 42,
     "metadata": {},
     "output_type": "execute_result"
    }
   ],
   "source": [
    "adata = anndata.read_h5ad(\"./data/baron_2016h.h5ad\")\n",
    "sc.pp.filter_genes(adata, min_counts=1)\n",
    "adata"
   ]
  },
  {
   "cell_type": "code",
   "execution_count": 43,
   "metadata": {},
   "outputs": [],
   "source": [
    "def select_genes(\n",
    "    data,\n",
    "    threshold=0,\n",
    "    atleast=10,\n",
    "    yoffset=0.02,\n",
    "    xoffset=5,\n",
    "    decay=1,\n",
    "    n=None,\n",
    "    alpha=1,\n",
    "):\n",
    "    if sp.issparse(data):\n",
    "        zeroRate = 1 - np.squeeze(np.array((data > threshold).mean(axis=0)))\n",
    "        A = data.multiply(data > threshold)\n",
    "        A.data = np.log2(A.data)\n",
    "        meanExpr = np.zeros_like(zeroRate) * np.nan\n",
    "        detected = zeroRate < 1\n",
    "        meanExpr[detected] = np.squeeze(np.array(A[:, detected].mean(axis=0))) / (\n",
    "            1 - zeroRate[detected]\n",
    "        )\n",
    "    else:\n",
    "        zeroRate = 1 - np.mean(data > threshold, axis=0)\n",
    "        meanExpr = np.zeros_like(zeroRate) * np.nan\n",
    "        detected = zeroRate < 1\n",
    "        meanExpr[detected] = np.nanmean(\n",
    "            np.where(data[:, detected] > threshold, np.log2(data[:, detected]), np.nan),\n",
    "            axis=0,\n",
    "        )\n",
    "\n",
    "    lowDetection = np.array(np.sum(data > threshold, axis=0)).squeeze() < atleast\n",
    "    # lowDetection = (1 - zeroRate) * data.shape[0] < atleast - .00001\n",
    "    zeroRate[lowDetection] = np.nan\n",
    "    meanExpr[lowDetection] = np.nan\n",
    "\n",
    "    if n is not None:\n",
    "        up = 10\n",
    "        low = 0\n",
    "        for t in range(100):\n",
    "            nonan = ~np.isnan(zeroRate)\n",
    "            selected = np.zeros_like(zeroRate).astype(bool)\n",
    "            selected[nonan] = (\n",
    "                zeroRate[nonan] > np.exp(-decay * (meanExpr[nonan] - xoffset)) + yoffset\n",
    "            )\n",
    "            if np.sum(selected) == n:\n",
    "                break\n",
    "            elif np.sum(selected) < n:\n",
    "                up = xoffset\n",
    "                xoffset = (xoffset + low) / 2\n",
    "            else:\n",
    "                low = xoffset\n",
    "                xoffset = (xoffset + up) / 2\n",
    "        print(\"Chosen offset: {:.2f}\".format(xoffset))\n",
    "    else:\n",
    "        nonan = ~np.isnan(zeroRate)\n",
    "        selected = np.zeros_like(zeroRate).astype(bool)\n",
    "        selected[nonan] = (\n",
    "            zeroRate[nonan] > np.exp(-decay * (meanExpr[nonan] - xoffset)) + yoffset\n",
    "        )\n",
    "\n",
    "    return selected"
   ]
  },
  {
   "cell_type": "code",
   "execution_count": 44,
   "metadata": {},
   "outputs": [
    {
     "name": "stdout",
     "output_type": "stream",
     "text": [
      "Chosen offset: 0.18\n"
     ]
    }
   ],
   "source": [
    "gene_mask = select_genes(adata.X, n=3000, threshold=0)\n",
    "\n",
    "adata_norm = adata.copy()\n",
    "sc.pp.normalize_per_cell(adata_norm, counts_per_cell_after=1_000_000)\n",
    "sc.pp.log1p(adata_norm)"
   ]
  },
  {
   "cell_type": "code",
   "execution_count": 45,
   "metadata": {},
   "outputs": [],
   "source": [
    "adata_norm.X = adata_norm.X.toarray()\n",
    "adata_norm.X -= adata_norm.X.mean(axis=0)\n",
    "adata_norm.X /= adata_norm.X.std(axis=0)"
   ]
  },
  {
   "cell_type": "code",
   "execution_count": 46,
   "metadata": {},
   "outputs": [],
   "source": [
    "\n",
    "adata_3000 = adata_norm[:, gene_mask].copy()"
   ]
  },
  {
   "cell_type": "code",
   "execution_count": 62,
   "metadata": {},
   "outputs": [
    {
     "data": {
      "text/plain": [
       "'human3_lib2'"
      ]
     },
     "execution_count": 62,
     "metadata": {},
     "output_type": "execute_result"
    }
   ],
   "source": [
    "adata_3000.obs['batch_id'][4578]"
   ]
  },
  {
   "cell_type": "code",
   "execution_count": 63,
   "metadata": {},
   "outputs": [
    {
     "data": {
      "text/plain": [
       "'Acinar cells'"
      ]
     },
     "execution_count": 63,
     "metadata": {},
     "output_type": "execute_result"
    }
   ],
   "source": [
    "adata_3000.obs['labels'][4578]"
   ]
  },
  {
   "cell_type": "code",
   "execution_count": 65,
   "metadata": {},
   "outputs": [],
   "source": [
    "x,y,b = sc_dataset.__getitem__(4578)"
   ]
  },
  {
   "cell_type": "code",
   "execution_count": 70,
   "metadata": {},
   "outputs": [
    {
     "data": {
      "text/plain": [
       "array([-0.18004292, -0.23224501, -0.22836281, ..., -0.25314525,\n",
       "        0.836425  ,  2.0954144 ], dtype=float32)"
      ]
     },
     "execution_count": 70,
     "metadata": {},
     "output_type": "execute_result"
    }
   ],
   "source": [
    "adata_3000.X[4578]"
   ]
  },
  {
   "cell_type": "code",
   "execution_count": 73,
   "metadata": {},
   "outputs": [
    {
     "data": {
      "text/plain": [
       "True"
      ]
     },
     "execution_count": 73,
     "metadata": {},
     "output_type": "execute_result"
    }
   ],
   "source": [
    "np.array_equal(x,adata_3000.X[4578])"
   ]
  },
  {
   "cell_type": "code",
   "execution_count": 66,
   "metadata": {},
   "outputs": [
    {
     "data": {
      "text/plain": [
       "tensor(7)"
      ]
     },
     "execution_count": 66,
     "metadata": {},
     "output_type": "execute_result"
    }
   ],
   "source": [
    "b"
   ]
  },
  {
   "cell_type": "code",
   "execution_count": 67,
   "metadata": {},
   "outputs": [
    {
     "data": {
      "text/plain": [
       "tensor(0)"
      ]
     },
     "execution_count": 67,
     "metadata": {},
     "output_type": "execute_result"
    }
   ],
   "source": [
    "y"
   ]
  },
  {
   "cell_type": "code",
   "execution_count": 61,
   "metadata": {},
   "outputs": [
    {
     "data": {
      "text/plain": [
       "{0: 'Acinar cells',\n",
       " 1: 'Beta cells',\n",
       " 2: 'Delta cells',\n",
       " 3: 'PaSC',\n",
       " 4: 'Ductal cells',\n",
       " 5: 'Alpha cells',\n",
       " 6: 'Other',\n",
       " 7: 'PP cells',\n",
       " 8: 'Endothelial cell'}"
      ]
     },
     "execution_count": 61,
     "metadata": {},
     "output_type": "execute_result"
    }
   ],
   "source": [
    "sc_dataset.id_to_cell"
   ]
  },
  {
   "cell_type": "code",
   "execution_count": 68,
   "metadata": {},
   "outputs": [
    {
     "data": {
      "text/plain": [
       "{0: 'human1_lib1',\n",
       " 1: 'human1_lib2',\n",
       " 2: 'human1_lib3',\n",
       " 3: 'human2_lib1',\n",
       " 4: 'human2_lib2',\n",
       " 5: 'human2_lib3',\n",
       " 6: 'human3_lib1',\n",
       " 7: 'human3_lib2',\n",
       " 8: 'human3_lib3',\n",
       " 9: 'human3_lib4',\n",
       " 10: 'human4_lib1',\n",
       " 11: 'human4_lib3'}"
      ]
     },
     "execution_count": 68,
     "metadata": {},
     "output_type": "execute_result"
    }
   ],
   "source": [
    "sc_dataset.id_to_batch"
   ]
  },
  {
   "cell_type": "code",
   "execution_count": null,
   "metadata": {},
   "outputs": [],
   "source": []
  }
 ],
 "metadata": {
  "kernelspec": {
   "display_name": "Python 3",
   "language": "python",
   "name": "python3"
  },
  "language_info": {
   "codemirror_mode": {
    "name": "ipython",
    "version": 3
   },
   "file_extension": ".py",
   "mimetype": "text/x-python",
   "name": "python",
   "nbconvert_exporter": "python",
   "pygments_lexer": "ipython3",
   "version": "3.6.9"
  }
 },
 "nbformat": 4,
 "nbformat_minor": 2
}
