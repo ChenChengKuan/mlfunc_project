{
 "cells": [
  {
   "cell_type": "code",
   "execution_count": null,
   "metadata": {},
   "outputs": [],
   "source": [
    "import anndata\n",
    "import scipy.sparse as sp\n",
    "import numpy as np"
   ]
  },
  {
   "cell_type": "markdown",
   "metadata": {},
   "source": [
    "# baron2016_h & Xin (human pancreas)"
   ]
  },
  {
   "cell_type": "markdown",
   "metadata": {},
   "source": [
    "## data size and shape"
   ]
  },
  {
   "cell_type": "code",
   "execution_count": null,
   "metadata": {},
   "outputs": [],
   "source": [
    "dataset_pancreas = {'baron':None, 'xin': None}\n",
    "dataset_pancreas['baron'] = anndata.read_h5ad(\"./data/baron_2016h.h5ad\")\n",
    "dataset_pancreas['xin'] = anndata.read_h5ad(\"./data/xin_2016.h5ad\")\n",
    "\n",
    "for k in dataset_pancreas.keys():\n",
    "    print (\"There are {} cells and {} genes in {} dataset\".format(dataset_pancreas[k].shape[0],\\\n",
    "                                                                  dataset_pancreas[k].shape[1],\\\n",
    "                                                                  k))\n",
    "    \n",
    "    "
   ]
  },
  {
   "cell_type": "code",
   "execution_count": null,
   "metadata": {},
   "outputs": [],
   "source": [
    "selesct = select_genes(data=dataset_pancreas['baron'].X, n=3000, threshold=0, plot=False)"
   ]
  },
  {
   "cell_type": "code",
   "execution_count": null,
   "metadata": {},
   "outputs": [],
   "source": [
    "1_000_000"
   ]
  },
  {
   "cell_type": "code",
   "execution_count": null,
   "metadata": {},
   "outputs": [],
   "source": [
    "a.obs['labels'].unique().tolist()"
   ]
  },
  {
   "cell_type": "code",
   "execution_count": null,
   "metadata": {},
   "outputs": [],
   "source": [
    "a.X.toarray().shape"
   ]
  },
  {
   "cell_type": "markdown",
   "metadata": {},
   "source": [
    "## batch and cell label info"
   ]
  },
  {
   "cell_type": "code",
   "execution_count": null,
   "metadata": {},
   "outputs": [],
   "source": [
    "import matplotlib.pyplot as plt\n",
    "plt.figure(figsize=(12,6))\n",
    "plt.subplot(1,2,1)\n",
    "dataset_pancreas['baron'].obs['batch_id'].value_counts().plot(kind='bar')\n",
    "plt.xticks(rotation='vertical')\n",
    "plt.subplot(1,2,2)\n",
    "dataset_pancreas['xin'].obs['batch_id'].value_counts().plot(kind='bar')\n",
    "plt.xticks(rotation='vertical')"
   ]
  },
  {
   "cell_type": "code",
   "execution_count": null,
   "metadata": {},
   "outputs": [],
   "source": [
    "plt.figure(figsize=(12,6))\n",
    "plt.subplot(1,2,1)\n",
    "dataset_pancreas['baron'].obs['labels'].value_counts().plot(kind='bar')\n",
    "plt.subplot(1,2,2)\n",
    "dataset_pancreas['xin'].obs['labels'].value_counts().plot(kind='bar')"
   ]
  },
  {
   "cell_type": "markdown",
   "metadata": {},
   "source": [
    "# Hrvatin and Chen (Mouse Brain)"
   ]
  },
  {
   "cell_type": "code",
   "execution_count": null,
   "metadata": {},
   "outputs": [],
   "source": [
    "dataset_mouse_brain = {'hrvatin':None, 'chen': None}\n",
    "dataset_mouse_brain['hrvatin'] = anndata.read_h5ad(\"./data/hrvatin_2018.h5ad\")\n",
    "dataset_mouse_brain['chen'] = anndata.read_h5ad(\"./data/chen_2017.h5ad\")\n",
    "\n",
    "for k in dataset_mouse_brain.keys():\n",
    "    print (\"There are {} cells and {} genes in {} dataset\".format(dataset_mouse_brain[k].shape[0],\\\n",
    "                                                                  dataset_mouse_brain[k].shape[1],\\\n",
    "                                                                  k))"
   ]
  },
  {
   "cell_type": "markdown",
   "metadata": {},
   "source": [
    "## batch and cell label info"
   ]
  },
  {
   "cell_type": "code",
   "execution_count": null,
   "metadata": {},
   "outputs": [],
   "source": [
    "import matplotlib.pyplot as plt\n",
    "plt.figure(figsize=(12,6))\n",
    "plt.subplot(1,2,1)\n",
    "dataset_mouse_brain['hrvatin'].obs['batch_id'].value_counts().plot(kind='bar')\n",
    "plt.xticks(rotation='vertical')\n",
    "plt.subplot(1,2,2)\n",
    "dataset_mouse_brain['chen'].obs['batch_id'].value_counts().plot(kind='bar')\n",
    "plt.xticks(rotation='vertical')"
   ]
  },
  {
   "cell_type": "code",
   "execution_count": null,
   "metadata": {},
   "outputs": [],
   "source": [
    "plt.figure(figsize=(12,6))\n",
    "plt.subplot(1,2,1)\n",
    "dataset_mouse_brain['hrvatin'].obs['labels'].value_counts().plot(kind='bar')\n",
    "plt.subplot(1,2,2)\n",
    "dataset_mouse_brain['chen'].obs['labels'].value_counts().plot(kind='bar')"
   ]
  },
  {
   "cell_type": "markdown",
   "metadata": {},
   "source": [
    "# Macosko and Shekhar (Mouse Retina)"
   ]
  },
  {
   "cell_type": "code",
   "execution_count": null,
   "metadata": {},
   "outputs": [],
   "source": [
    "dataset_mouse_retina = {'macosko':None, 'shekhar': None}\n",
    "dataset_mouse_retina['macosko'] = anndata.read_h5ad(\"./data/macosko_2015.h5ad\")\n",
    "dataset_mouse_retina['shekhar'] = anndata.read_h5ad(\"./data/shekhar_2016.h5ad\")\n",
    "\n",
    "for k in dataset_mouse_retina.keys():\n",
    "    print (\"There are {} cells and {} genes in {} dataset\".format(dataset_mouse_retina[k].shape[0],\\\n",
    "                                                                  dataset_mouse_retina[k].shape[1],\\\n",
    "                                                                  k))"
   ]
  },
  {
   "cell_type": "code",
   "execution_count": null,
   "metadata": {},
   "outputs": [],
   "source": [
    "plt.figure(figsize=(12,6))\n",
    "plt.subplot(1,2,1)\n",
    "dataset_mouse_retina['macosko'].obs['batch_id'].value_counts().plot(kind='bar')\n",
    "plt.xticks(rotation='vertical')\n",
    "plt.subplot(1,2,2)\n",
    "dataset_mouse_retina['shekhar'].obs['batch_id'].value_counts().plot(kind='bar')\n",
    "plt.xticks(rotation='vertical')"
   ]
  },
  {
   "cell_type": "code",
   "execution_count": null,
   "metadata": {},
   "outputs": [],
   "source": [
    "plt.figure(figsize=(12,6))\n",
    "plt.subplot(1,2,1)\n",
    "dataset_mouse_retina['macosko'].obs['labels'].value_counts().plot(kind='bar')\n",
    "plt.subplot(1,2,2)\n",
    "dataset_mouse_retina['shekhar'].obs['labels'].value_counts().plot(kind='bar')"
   ]
  },
  {
   "cell_type": "code",
   "execution_count": null,
   "metadata": {},
   "outputs": [],
   "source": []
  }
 ],
 "metadata": {
  "kernelspec": {
   "display_name": "Python 3",
   "language": "python",
   "name": "python3"
  },
  "language_info": {
   "codemirror_mode": {
    "name": "ipython",
    "version": 3
   },
   "file_extension": ".py",
   "mimetype": "text/x-python",
   "name": "python",
   "nbconvert_exporter": "python",
   "pygments_lexer": "ipython3",
   "version": "3.6.9"
  }
 },
 "nbformat": 4,
 "nbformat_minor": 2
}
