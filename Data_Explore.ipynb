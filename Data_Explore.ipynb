{
 "cells": [
  {
   "cell_type": "code",
   "execution_count": 1,
   "metadata": {},
   "outputs": [],
   "source": [
    "import anndata\n",
    "import scipy.sparse as sp\n",
    "import numpy as np\n",
    "import scanpy as sc"
   ]
  },
  {
   "cell_type": "code",
   "execution_count": 2,
   "metadata": {},
   "outputs": [],
   "source": [
    "def select_gene(data,\\\n",
    "                num_gene,\\\n",
    "                threshold=0,\\\n",
    "                atleast=10,\\\n",
    "                decay=1,\n",
    "                xoffset=5,\\\n",
    "                yoffset=0.02):\n",
    "\n",
    "    if sp.issparse(data):\n",
    "        zeroRate = 1 - np.squeeze(np.array((data > threshold).mean(axis=0)))\n",
    "        A = data.multiply(data > threshold)\n",
    "        A.data = np.log2(A.data)\n",
    "        meanExpr = np.zeros_like(zeroRate) * np.nan\n",
    "        detected = zeroRate < 1\n",
    "        meanExpr[detected] = np.squeeze(np.array(A[:, detected].mean(axis=0))) / (\n",
    "            1 - zeroRate[detected]\n",
    "        )\n",
    "    else:\n",
    "        zeroRate = 1 - np.mean(data > threshold, axis=0)\n",
    "        meanExpr = np.zeros_like(zeroRate) * np.nan\n",
    "        detected = zeroRate < 1\n",
    "        meanExpr[detected] = np.nanmean(\n",
    "            np.where(data[:, detected] > threshold, np.log2(data[:, detected]), np.nan),\n",
    "            axis=0,\n",
    "        )\n",
    "\n",
    "    lowDetection = np.array(np.sum(data > threshold, axis=0)).squeeze() < atleast\n",
    "    # lowDetection = (1 - zeroRate) * data.shape[0] < atleast - .00001\n",
    "    zeroRate[lowDetection] = np.nan\n",
    "    meanExpr[lowDetection] = np.nan\n",
    "\n",
    "    if num_gene is not None:\n",
    "        up = 10\n",
    "        low = 0\n",
    "        for t in range(100):\n",
    "            nonan = ~np.isnan(zeroRate)\n",
    "            selected = np.zeros_like(zeroRate).astype(bool)\n",
    "            selected[nonan] = (\n",
    "                zeroRate[nonan] > np.exp(-decay * (meanExpr[nonan] - xoffset)) + yoffset\n",
    "            )\n",
    "            if np.sum(selected) == num_gene:\n",
    "                break\n",
    "            elif np.sum(selected) < num_gene:\n",
    "                up = xoffset\n",
    "                xoffset = (xoffset + low) / 2\n",
    "            else:\n",
    "                low = xoffset\n",
    "                xoffset = (xoffset + up) / 2\n",
    "        print(\"Chosen offset: {:.2f}\".format(xoffset))\n",
    "    else:\n",
    "        nonan = ~np.isnan(zeroRate)\n",
    "        selected = np.zeros_like(zeroRate).astype(bool)\n",
    "        selected[nonan] = (\n",
    "            zeroRate[nonan] > np.exp(-decay * (meanExpr[nonan] - xoffset)) + yoffset\n",
    "        )\n",
    "\n",
    "    return selected"
   ]
  },
  {
   "cell_type": "code",
   "execution_count": 42,
   "metadata": {},
   "outputs": [],
   "source": [
    "adata_lb = anndata.read_h5ad(\"./data_sampled/baron_2016h_labelled_0.2.h5ad\")\n",
    "adata_ulb = anndata.read_h5ad(\"./data_sampled/baron_2016h_unlabelled_0.2.h5ad\")"
   ]
  },
  {
   "cell_type": "code",
   "execution_count": 43,
   "metadata": {},
   "outputs": [],
   "source": [
    "a = sc.pp.filter_genes(adata_lb, min_counts=1, inplace=False)"
   ]
  },
  {
   "cell_type": "code",
   "execution_count": 32,
   "metadata": {},
   "outputs": [
    {
     "data": {
      "text/plain": [
       "array([ True,  True,  True, ...,  True,  True,  True])"
      ]
     },
     "execution_count": 32,
     "metadata": {},
     "output_type": "execute_result"
    }
   ],
   "source": [
    "a[0]"
   ]
  },
  {
   "cell_type": "code",
   "execution_count": 44,
   "metadata": {},
   "outputs": [],
   "source": [
    "adata_filter = adata_lb[:, a[0]]"
   ]
  },
  {
   "cell_type": "code",
   "execution_count": 38,
   "metadata": {},
   "outputs": [
    {
     "data": {
      "text/plain": [
       "(1711, 16236)"
      ]
     },
     "execution_count": 38,
     "metadata": {},
     "output_type": "execute_result"
    }
   ],
   "source": [
    "adata_filter.shape"
   ]
  },
  {
   "cell_type": "code",
   "execution_count": 45,
   "metadata": {},
   "outputs": [],
   "source": [
    "adata_filter.obsm['tsne'] = np.zeros(1711)"
   ]
  },
  {
   "cell_type": "code",
   "execution_count": 48,
   "metadata": {},
   "outputs": [
    {
     "data": {
      "text/plain": [
       "array([0., 0., 0., ..., 0., 0., 0.])"
      ]
     },
     "execution_count": 48,
     "metadata": {},
     "output_type": "execute_result"
    }
   ],
   "source": [
    "adata_filter.obsm['tsne']"
   ]
  },
  {
   "cell_type": "code",
   "execution_count": 50,
   "metadata": {},
   "outputs": [
    {
     "ename": "ZeroDivisionError",
     "evalue": "integer division or modulo by zero",
     "output_type": "error",
     "traceback": [
      "\u001b[0;31m---------------------------------------------------------------------------\u001b[0m",
      "\u001b[0;31mZeroDivisionError\u001b[0m                         Traceback (most recent call last)",
      "\u001b[0;32m<ipython-input-50-7fc8a4784866>\u001b[0m in \u001b[0;36m<module>\u001b[0;34m\u001b[0m\n\u001b[0;32m----> 1\u001b[0;31m \u001b[0;36m1\u001b[0m \u001b[0;34m//\u001b[0m \u001b[0;36m0\u001b[0m\u001b[0;34m\u001b[0m\u001b[0;34m\u001b[0m\u001b[0m\n\u001b[0m",
      "\u001b[0;31mZeroDivisionError\u001b[0m: integer division or modulo by zero"
     ]
    }
   ],
   "source": [
    "1 // 0"
   ]
  },
  {
   "cell_type": "code",
   "execution_count": 24,
   "metadata": {},
   "outputs": [
    {
     "data": {
      "text/plain": [
       "(6858, 20125)"
      ]
     },
     "execution_count": 24,
     "metadata": {},
     "output_type": "execute_result"
    }
   ],
   "source": [
    "adata_ulb.shape"
   ]
  },
  {
   "cell_type": "code",
   "execution_count": null,
   "metadata": {},
   "outputs": [],
   "source": [
    "\n",
    "select_lb = select_gene(data=adata_lb.X, num_gene=3000)\n",
    "select_ulb = select_gene(data=adata_ulb.X, num_gene=3000)"
   ]
  },
  {
   "cell_type": "code",
   "execution_count": null,
   "metadata": {},
   "outputs": [],
   "source": [
    "adata_lb_3000 = adata_lb[:,select_lb]"
   ]
  },
  {
   "cell_type": "code",
   "execution_count": null,
   "metadata": {},
   "outputs": [],
   "source": [
    "adata_ulb_3000 = adata_ulb[:, select_ulb]"
   ]
  },
  {
   "cell_type": "code",
   "execution_count": null,
   "metadata": {},
   "outputs": [],
   "source": [
    "adata_ulb_3000.var_names"
   ]
  },
  {
   "cell_type": "code",
   "execution_count": null,
   "metadata": {},
   "outputs": [],
   "source": [
    "len(set(adata_lb_3000.var_names).intersection(set(adata_ulb_3000.var_names)))"
   ]
  },
  {
   "cell_type": "markdown",
   "metadata": {},
   "source": [
    "# baron2016_h & Xin (human pancreas)"
   ]
  },
  {
   "cell_type": "markdown",
   "metadata": {},
   "source": [
    "## data size and shape"
   ]
  },
  {
   "cell_type": "code",
   "execution_count": null,
   "metadata": {},
   "outputs": [],
   "source": [
    "dataset_pancreas = {'baron':None, 'xin': None}\n",
    "dataset_pancreas['baron'] = anndata.read_h5ad(\"./data/baron_2016h.h5ad\")\n",
    "dataset_pancreas['xin'] = anndata.read_h5ad(\"./data/xin_2016.h5ad\")\n",
    "\n",
    "for k in dataset_pancreas.keys():\n",
    "    print (\"There are {} cells and {} genes in {} dataset\".format(dataset_pancreas[k].shape[0],\\\n",
    "                                                                  dataset_pancreas[k].shape[1],\\\n",
    "                                                                  k))\n",
    "    \n",
    "    "
   ]
  },
  {
   "cell_type": "code",
   "execution_count": null,
   "metadata": {},
   "outputs": [],
   "source": [
    "len(set(dataset_pancreas['baron'].var_names).intersection(set(dataset_pancreas['xin'].var_names)))"
   ]
  },
  {
   "cell_type": "code",
   "execution_count": null,
   "metadata": {},
   "outputs": [],
   "source": [
    "dataset_pancreas['xin'].var_names"
   ]
  },
  {
   "cell_type": "code",
   "execution_count": null,
   "metadata": {},
   "outputs": [],
   "source": [
    "selesct = select_genes(data=dataset_pancreas['baron'].X, n=3000, threshold=0, plot=False)"
   ]
  },
  {
   "cell_type": "code",
   "execution_count": null,
   "metadata": {},
   "outputs": [],
   "source": [
    "1_000_000"
   ]
  },
  {
   "cell_type": "code",
   "execution_count": null,
   "metadata": {},
   "outputs": [],
   "source": [
    "a.obs['labels'].unique().tolist()"
   ]
  },
  {
   "cell_type": "code",
   "execution_count": null,
   "metadata": {},
   "outputs": [],
   "source": [
    "a.X.toarray().shape"
   ]
  },
  {
   "cell_type": "markdown",
   "metadata": {},
   "source": [
    "## batch and cell label info"
   ]
  },
  {
   "cell_type": "code",
   "execution_count": null,
   "metadata": {},
   "outputs": [],
   "source": [
    "import matplotlib.pyplot as plt\n",
    "plt.figure(figsize=(12,6))\n",
    "plt.subplot(1,2,1)\n",
    "dataset_pancreas['baron'].obs['batch_id'].value_counts().plot(kind='bar')\n",
    "plt.xticks(rotation='vertical')\n",
    "plt.subplot(1,2,2)\n",
    "dataset_pancreas['xin'].obs['batch_id'].value_counts().plot(kind='bar')\n",
    "plt.xticks(rotation='vertical')"
   ]
  },
  {
   "cell_type": "code",
   "execution_count": null,
   "metadata": {},
   "outputs": [],
   "source": [
    "plt.figure(figsize=(12,6))\n",
    "plt.subplot(1,2,1)\n",
    "dataset_pancreas['baron'].obs['labels'].value_counts().plot(kind='bar')\n",
    "plt.subplot(1,2,2)\n",
    "dataset_pancreas['xin'].obs['labels'].value_counts().plot(kind='bar')"
   ]
  },
  {
   "cell_type": "markdown",
   "metadata": {},
   "source": [
    "# Hrvatin and Chen (Mouse Brain)"
   ]
  },
  {
   "cell_type": "code",
   "execution_count": null,
   "metadata": {},
   "outputs": [],
   "source": [
    "dataset_mouse_brain = {'hrvatin':None, 'chen': None}\n",
    "dataset_mouse_brain['hrvatin'] = anndata.read_h5ad(\"./data/hrvatin_2018.h5ad\")\n",
    "dataset_mouse_brain['chen'] = anndata.read_h5ad(\"./data/chen_2017.h5ad\")\n",
    "\n",
    "for k in dataset_mouse_brain.keys():\n",
    "    print (\"There are {} cells and {} genes in {} dataset\".format(dataset_mouse_brain[k].shape[0],\\\n",
    "                                                                  dataset_mouse_brain[k].shape[1],\\\n",
    "                                                                  k))"
   ]
  },
  {
   "cell_type": "markdown",
   "metadata": {},
   "source": [
    "## batch and cell label info"
   ]
  },
  {
   "cell_type": "code",
   "execution_count": null,
   "metadata": {},
   "outputs": [],
   "source": [
    "import matplotlib.pyplot as plt\n",
    "plt.figure(figsize=(12,6))\n",
    "plt.subplot(1,2,1)\n",
    "dataset_mouse_brain['hrvatin'].obs['batch_id'].value_counts().plot(kind='bar')\n",
    "plt.xticks(rotation='vertical')\n",
    "plt.subplot(1,2,2)\n",
    "dataset_mouse_brain['chen'].obs['batch_id'].value_counts().plot(kind='bar')\n",
    "plt.xticks(rotation='vertical')"
   ]
  },
  {
   "cell_type": "code",
   "execution_count": null,
   "metadata": {},
   "outputs": [],
   "source": [
    "plt.figure(figsize=(12,6))\n",
    "plt.subplot(1,2,1)\n",
    "dataset_mouse_brain['hrvatin'].obs['labels'].value_counts().plot(kind='bar')\n",
    "plt.subplot(1,2,2)\n",
    "dataset_mouse_brain['chen'].obs['labels'].value_counts().plot(kind='bar')"
   ]
  },
  {
   "cell_type": "markdown",
   "metadata": {},
   "source": [
    "# Macosko and Shekhar (Mouse Retina)"
   ]
  },
  {
   "cell_type": "code",
   "execution_count": null,
   "metadata": {},
   "outputs": [],
   "source": [
    "dataset_mouse_retina = {'macosko':None, 'shekhar': None}\n",
    "dataset_mouse_retina['macosko'] = anndata.read_h5ad(\"./data/macosko_2015.h5ad\")\n",
    "dataset_mouse_retina['shekhar'] = anndata.read_h5ad(\"./data/shekhar_2016.h5ad\")\n",
    "\n",
    "for k in dataset_mouse_retina.keys():\n",
    "    print (\"There are {} cells and {} genes in {} dataset\".format(dataset_mouse_retina[k].shape[0],\\\n",
    "                                                                  dataset_mouse_retina[k].shape[1],\\\n",
    "                                                                  k))"
   ]
  },
  {
   "cell_type": "code",
   "execution_count": null,
   "metadata": {},
   "outputs": [],
   "source": [
    "plt.figure(figsize=(12,6))\n",
    "plt.subplot(1,2,1)\n",
    "dataset_mouse_retina['macosko'].obs['batch_id'].value_counts().plot(kind='bar')\n",
    "plt.xticks(rotation='vertical')\n",
    "plt.subplot(1,2,2)\n",
    "dataset_mouse_retina['shekhar'].obs['batch_id'].value_counts().plot(kind='bar')\n",
    "plt.xticks(rotation='vertical')"
   ]
  },
  {
   "cell_type": "code",
   "execution_count": null,
   "metadata": {},
   "outputs": [],
   "source": [
    "plt.figure(figsize=(12,6))\n",
    "plt.subplot(1,2,1)\n",
    "dataset_mouse_retina['macosko'].obs['labels'].value_counts().plot(kind='bar')\n",
    "plt.subplot(1,2,2)\n",
    "dataset_mouse_retina['shekhar'].obs['labels'].value_counts().plot(kind='bar')"
   ]
  },
  {
   "cell_type": "code",
   "execution_count": null,
   "metadata": {},
   "outputs": [],
   "source": []
  }
 ],
 "metadata": {
  "kernelspec": {
   "display_name": "Python 3",
   "language": "python",
   "name": "python3"
  },
  "language_info": {
   "codemirror_mode": {
    "name": "ipython",
    "version": 3
   },
   "file_extension": ".py",
   "mimetype": "text/x-python",
   "name": "python",
   "nbconvert_exporter": "python",
   "pygments_lexer": "ipython3",
   "version": "3.6.9"
  }
 },
 "nbformat": 4,
 "nbformat_minor": 2
}
